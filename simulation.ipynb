{
  "nbformat": 4,
  "nbformat_minor": 0,
  "metadata": {
    "colab": {
      "name": "simulation.ipynb",
      "provenance": [],
      "authorship_tag": "ABX9TyNFmF4JRv7IjjBHg8aP7Rke",
      "include_colab_link": true
    },
    "kernelspec": {
      "name": "python3",
      "display_name": "Python 3"
    }
  },
  "cells": [
    {
      "cell_type": "markdown",
      "metadata": {
        "id": "view-in-github",
        "colab_type": "text"
      },
      "source": [
        "<a href=\"https://colab.research.google.com/github/sunshineluyao/simulations/blob/main/simulation.ipynb\" target=\"_parent\"><img src=\"https://colab.research.google.com/assets/colab-badge.svg\" alt=\"Open In Colab\"/></a>"
      ]
    },
    {
      "cell_type": "markdown",
      "metadata": {
        "id": "itc3wppkaiiF"
      },
      "source": [
        "# References\r\n",
        "\r\n",
        "[Python Generator Functions using yield](https://www.datacamp.com/community/news/python-generators-a-complete-guide-to-create-and-use-generators-6v0phby17gw)\r\n",
        "\r\n",
        "[Courses on Real Python](https://realpython.com/courses/simulating-processes-simpy/)\r\n"
      ]
    },
    {
      "cell_type": "markdown",
      "metadata": {
        "id": "qjMR9XXg10uF"
      },
      "source": [
        "# Define the Environment"
      ]
    },
    {
      "cell_type": "code",
      "metadata": {
        "id": "kGgldhJ2uv8q"
      },
      "source": [
        "!pip install simpy ###must delete if download as a python file"
      ],
      "execution_count": null,
      "outputs": []
    },
    {
      "cell_type": "code",
      "metadata": {
        "id": "d99UN5t_1XRs"
      },
      "source": [
        "import simpy\r\n",
        "import random\r\n",
        "import statistics\r\n",
        "import numpy as np\r\n",
        "import numba"
      ],
      "execution_count": 2,
      "outputs": []
    },
    {
      "cell_type": "code",
      "metadata": {
        "id": "OvMInKTx161z"
      },
      "source": [
        "wait_times =[]"
      ],
      "execution_count": 3,
      "outputs": []
    },
    {
      "cell_type": "code",
      "metadata": {
        "colab": {
          "base_uri": "https://localhost:8080/"
        },
        "id": "UfDkTnBTJNAZ",
        "outputId": "d49bfb7f-557d-423c-9977-90f0183165be"
      },
      "source": [
        "print(numba.__version__)"
      ],
      "execution_count": 4,
      "outputs": [
        {
          "output_type": "stream",
          "text": [
            "0.51.2\n"
          ],
          "name": "stdout"
        }
      ]
    },
    {
      "cell_type": "code",
      "metadata": {
        "id": "Fe3hNYvA2CTE"
      },
      "source": [
        "class Theater(object):\r\n",
        "  def __init__(self,env,num_cashiers, num_servers, num_ushers):\r\n",
        "    self.env = env\r\n",
        "    self.cashier = simpy.Resource(env, num_cashiers)\r\n",
        "    self.server = simpy.Resource(env, num_servers)\r\n",
        "    self.usher = simpy.Resource(env, num_ushers)\r\n",
        "  def purchase_ticket(self, moviegoer):\r\n",
        "    yield self.env.timeout(random.randint(1,3))\r\n",
        "  def check_ticket(self, moviegoer):\r\n",
        "    yield self.env.timeout(3/60)\r\n",
        "  def sell_food(self, moviegoer):\r\n",
        "    yield self.env.timeout(random.randint(1,6))"
      ],
      "execution_count": 5,
      "outputs": []
    },
    {
      "cell_type": "markdown",
      "metadata": {
        "id": "kL7Xzt-z4Os9"
      },
      "source": [
        "# Defining  process in the simulation"
      ]
    },
    {
      "cell_type": "code",
      "metadata": {
        "id": "7VfEL9Pi4EyO"
      },
      "source": [
        "def go_to_movies(env, moviegoer, theater):\r\n",
        "  # arrive at theater\r\n",
        "  arrival_time = env.now\r\n",
        "  #buy ticket\r\n",
        "  with theater.cashier.request() as request:\r\n",
        "    yield request\r\n",
        "    yield env.process(theater.purchase_ticket(moviegoer))\r\n",
        "  #check ticket\r\n",
        "  with theater.usher.request() as request:\r\n",
        "    yield request\r\n",
        "    yield env.process(theater.check_ticket(moviegoer))\r\n",
        "  # buy food\r\n",
        "  if random.choice([True, False]):\r\n",
        "    with theater.server.request() as request:\r\n",
        "      yield request\r\n",
        "      yield env.process(theater.sell_food(moviegoer))\r\n",
        "    # go to their seat\r\n",
        "    wait_times.append(env.now-arrival_time)\r\n",
        "    return wait_times"
      ],
      "execution_count": 6,
      "outputs": []
    },
    {
      "cell_type": "markdown",
      "metadata": {
        "id": "IF5qn4j-6TdQ"
      },
      "source": [
        "# Run the simulation"
      ]
    },
    {
      "cell_type": "code",
      "metadata": {
        "id": "f1RgqRpC6EaI"
      },
      "source": [
        "def run_theater(env, num_cashiers, num_servers, num_ushers):\r\n",
        "  theater = Theater(env, num_cashiers, num_servers, num_ushers)\r\n",
        "  for moviegoer in range(3):\r\n",
        "    env.process(go_to_movies(env, moviegoer, theater))\r\n",
        "\r\n",
        "  while True:\r\n",
        "    yield env.timeout(0.20)\r\n",
        "\r\n",
        "    moviegoer +=1\r\n",
        "    env.process(go_to_movies(env, moviegoer, theater))"
      ],
      "execution_count": 7,
      "outputs": []
    },
    {
      "cell_type": "markdown",
      "metadata": {
        "id": "htDrHg9H7112"
      },
      "source": [
        "# Calculating Metrics"
      ]
    },
    {
      "cell_type": "code",
      "metadata": {
        "id": "blNreq5J70B9"
      },
      "source": [
        "def calculate_wait_times(wait_times):\r\n",
        "  average_wait =statistics.mean(wait_times)\r\n",
        "  #pretty print results:\r\n",
        "  minutes, frac_minutes = divmod(average_wait,1)\r\n",
        "  seconds = frac_minutes*60\r\n",
        "  return round(minutes), round(seconds)"
      ],
      "execution_count": 8,
      "outputs": []
    },
    {
      "cell_type": "markdown",
      "metadata": {
        "id": "lGgGZTLA8sew"
      },
      "source": [
        "# Selecting Parameters for the Simulation"
      ]
    },
    {
      "cell_type": "code",
      "metadata": {
        "id": "DjfzTVjA8bAX"
      },
      "source": [
        "def get_user_input():\r\n",
        "  num_cashiers = input(\"Input # of cashiers working:\")\r\n",
        "  num_servers = input(\"Input # of servers working:\")\r\n",
        "  num_ushers = input(\"Input # of ushers working:\")\r\n",
        "\r\n",
        "  params = [num_cashiers, num_servers, num_ushers]\r\n",
        "\r\n",
        "  if all(str(i).isdigit() for i in params):\r\n",
        "    params = [int(x) for x in params]\r\n",
        "  else:\r\n",
        "    print(\r\n",
        "        \"Could not parse input. The simulation will use default values\"\r\n",
        "        \"\\n1 casher, 1 server, 1 usher.\"\r\n",
        "    )\r\n",
        "    params = [1,1,1]\r\n",
        "  return params"
      ],
      "execution_count": 9,
      "outputs": []
    },
    {
      "cell_type": "markdown",
      "metadata": {
        "id": "4TQInIKd-beN"
      },
      "source": [
        "# Adding Final Touches to the Simulation"
      ]
    },
    {
      "cell_type": "code",
      "metadata": {
        "id": "fC0gdQRw9wXG"
      },
      "source": [
        "def main():\r\n",
        "  #Setup\r\n",
        "  random.seed(42)\r\n",
        "  num_cashiers, num_servers, num_ushers = get_user_input()\r\n",
        "  #run the simulation\r\n",
        "  env =simpy.Environment()\r\n",
        "  env.process(run_theater(env, num_cashiers, num_servers, num_ushers))\r\n",
        "  env.run(until=90) ###minutes within the environment\r\n",
        "\r\n",
        "  #view the results\r\n",
        "  mins, secs =calculate_wait_times(wait_times)\r\n",
        "  print(\r\n",
        "      \"Running simulation...\",\r\n",
        "      f\"\\nThe average wait time is {mins} minutes and {secs} seconds.\",\r\n",
        "  )\r\n"
      ],
      "execution_count": 10,
      "outputs": []
    },
    {
      "cell_type": "markdown",
      "metadata": {
        "id": "sHCuDIfRQnPe"
      },
      "source": [
        "#Experimenting With the Simulation"
      ]
    },
    {
      "cell_type": "code",
      "metadata": {
        "id": "gJ3uNRQQLdjf"
      },
      "source": [
        "if __name__ =='__main__':\r\n",
        "  main()\r\n",
        "  "
      ],
      "execution_count": null,
      "outputs": []
    },
    {
      "cell_type": "code",
      "metadata": {
        "id": "_O-J29dFQsph"
      },
      "source": [
        ""
      ],
      "execution_count": null,
      "outputs": []
    }
  ]
}