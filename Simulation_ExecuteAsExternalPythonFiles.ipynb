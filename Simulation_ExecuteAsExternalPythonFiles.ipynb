{
  "nbformat": 4,
  "nbformat_minor": 0,
  "metadata": {
    "colab": {
      "name": "Simulation_ExecuteAsExternalPythonFiles.ipynb",
      "provenance": [],
      "collapsed_sections": [],
      "toc_visible": true,
      "authorship_tag": "ABX9TyPyA8W5CH3uGVUMMCnDF1x3",
      "include_colab_link": true
    },
    "kernelspec": {
      "name": "python3",
      "display_name": "Python 3"
    }
  },
  "cells": [
    {
      "cell_type": "markdown",
      "metadata": {
        "id": "view-in-github",
        "colab_type": "text"
      },
      "source": [
        "<a href=\"https://colab.research.google.com/github/sunshineluyao/simulations/blob/main/Simulation_ExecuteAsExternalPythonFiles.ipynb\" target=\"_parent\"><img src=\"https://colab.research.google.com/assets/colab-badge.svg\" alt=\"Open In Colab\"/></a>"
      ]
    },
    {
      "cell_type": "markdown",
      "metadata": {
        "id": "itc3wppkaiiF"
      },
      "source": [
        "# References\r\n",
        "\r\n",
        "[Python Generator Functions using yield](https://www.datacamp.com/community/news/python-generators-a-complete-guide-to-create-and-use-generators-6v0phby17gw)\r\n",
        "\r\n",
        "[Courses on Real Python](https://realpython.com/courses/simulating-processes-simpy/)\r\n",
        "\r\n",
        "[Google Colab Tutorial | How to Execute external Python (.py) File](https://youtu.be/fPDGu1kQCzE)\r\n",
        "\r\n",
        "[Mount Drive](https://www.tutorialspoint.com/google_colab/google_colab_executing_external_python_files.htm)\r\n"
      ]
    },
    {
      "cell_type": "markdown",
      "metadata": {
        "id": "1ymK4nRttYSl"
      },
      "source": [
        "#Method 1: Execute the .py file in google folder\r\n",
        "\r\n",
        "\r\n",
        "*   Please note in google folder setting, uncheck \"automatically change the uploaded files to google doc\"\r\n",
        "*   Please note don't download the file as a name with simpy\"\r\n"
      ]
    },
    {
      "cell_type": "code",
      "metadata": {
        "colab": {
          "base_uri": "https://localhost:8080/"
        },
        "id": "gmStfwhJrsCV",
        "outputId": "c0ab8429-5281-47cf-f7d6-6a868d021cdf"
      },
      "source": [
        "from google.colab import drive\r\n",
        "drive.mount('/content/drive')"
      ],
      "execution_count": 20,
      "outputs": [
        {
          "output_type": "stream",
          "text": [
            "Drive already mounted at /content/drive; to attempt to forcibly remount, call drive.mount(\"/content/drive\", force_remount=True).\n"
          ],
          "name": "stdout"
        }
      ]
    },
    {
      "cell_type": "code",
      "metadata": {
        "colab": {
          "base_uri": "https://localhost:8080/"
        },
        "id": "VkVJXUI1rvYv",
        "outputId": "914b894d-66b1-4bee-dc7d-2fb0908d711a"
      },
      "source": [
        "!ls \"/content/drive/My Drive/Python\""
      ],
      "execution_count": 23,
      "outputs": [
        {
          "output_type": "stream",
          "text": [
            "simulation.py\n"
          ],
          "name": "stdout"
        }
      ]
    },
    {
      "cell_type": "code",
      "metadata": {
        "colab": {
          "base_uri": "https://localhost:8080/"
        },
        "id": "FgD5Cm9MsSwn",
        "outputId": "9b5cb4ea-f4de-42b6-8af8-3cdd895cb289"
      },
      "source": [
        "!pip install simpy"
      ],
      "execution_count": 22,
      "outputs": [
        {
          "output_type": "stream",
          "text": [
            "Requirement already satisfied: simpy in /usr/local/lib/python3.6/dist-packages (4.0.1)\n"
          ],
          "name": "stdout"
        }
      ]
    },
    {
      "cell_type": "code",
      "metadata": {
        "colab": {
          "base_uri": "https://localhost:8080/"
        },
        "id": "_Myd9fiGr4c5",
        "outputId": "1db76a3a-da24-4fc3-fb6a-e0c25d451131"
      },
      "source": [
        "!python3 \"/content/drive/My Drive/Python/simulation.py\""
      ],
      "execution_count": 24,
      "outputs": [
        {
          "output_type": "stream",
          "text": [
            "0.51.2\n",
            "Input # of cashiers working:100\n",
            "Input # of servers working:100\n",
            "Input # of ushers working:100\n",
            "Running simulation... \n",
            "The average wait time is 5 minutes and 33 seconds.\n"
          ],
          "name": "stdout"
        }
      ]
    },
    {
      "cell_type": "markdown",
      "metadata": {
        "id": "H9Vwcszkt0Z_"
      },
      "source": [
        "# Method 2: Compile the file in Colab directly"
      ]
    },
    {
      "cell_type": "code",
      "metadata": {
        "colab": {
          "base_uri": "https://localhost:8080/"
        },
        "id": "Y3P8_zCWr8ob",
        "outputId": "22813b1b-fa3a-4638-e1e9-70365814af2d"
      },
      "source": [
        "%%writefile simulation2.py\r\n",
        "import simpy\r\n",
        "import random\r\n",
        "import statistics\r\n",
        "import numpy as np\r\n",
        "import numba\r\n",
        "wait_times =[]\r\n",
        "class Theater(object):\r\n",
        "  def __init__(self,env,num_cashiers, num_servers, num_ushers):\r\n",
        "    self.env = env\r\n",
        "    self.cashier = simpy.Resource(env, num_cashiers)\r\n",
        "    self.server = simpy.Resource(env, num_servers)\r\n",
        "    self.usher = simpy.Resource(env, num_ushers)\r\n",
        "  def purchase_ticket(self, moviegoer):\r\n",
        "    yield self.env.timeout(random.randint(1,3))\r\n",
        "  def check_ticket(self, moviegoer):\r\n",
        "    yield self.env.timeout(3/60)\r\n",
        "  def sell_food(self, moviegoer):\r\n",
        "    yield self.env.timeout(random.randint(1,6))\r\n",
        "def go_to_movies(env, moviegoer, theater):\r\n",
        "  # arrive at theater\r\n",
        "  arrival_time = env.now\r\n",
        "  #buy ticket\r\n",
        "  with theater.cashier.request() as request:\r\n",
        "    yield request\r\n",
        "    yield env.process(theater.purchase_ticket(moviegoer))\r\n",
        "  #check ticket\r\n",
        "  with theater.usher.request() as request:\r\n",
        "    yield request\r\n",
        "    yield env.process(theater.check_ticket(moviegoer))\r\n",
        "  # buy food\r\n",
        "  if random.choice([True, False]):\r\n",
        "    with theater.server.request() as request:\r\n",
        "      yield request\r\n",
        "      yield env.process(theater.sell_food(moviegoer))\r\n",
        "    # go to their seat\r\n",
        "    wait_times.append(env.now-arrival_time)\r\n",
        "    return wait_times\r\n",
        "def run_theater(env, num_cashiers, num_servers, num_ushers):\r\n",
        "  theater = Theater(env, num_cashiers, num_servers, num_ushers)\r\n",
        "  for moviegoer in range(3):\r\n",
        "    env.process(go_to_movies(env, moviegoer, theater))\r\n",
        "\r\n",
        "  while True:\r\n",
        "    yield env.timeout(0.20)\r\n",
        "\r\n",
        "    moviegoer +=1\r\n",
        "    env.process(go_to_movies(env, moviegoer, theater))\r\n",
        "def calculate_wait_times(wait_times):\r\n",
        "  average_wait =statistics.mean(wait_times)\r\n",
        "  #pretty print results:\r\n",
        "  minutes, frac_minutes = divmod(average_wait,1)\r\n",
        "  seconds = frac_minutes*60\r\n",
        "  return round(minutes), round(seconds)\r\n",
        "def get_user_input():\r\n",
        "  num_cashiers = input(\"Input # of cashiers working:\")\r\n",
        "  num_servers = input(\"Input # of servers working:\")\r\n",
        "  num_ushers = input(\"Input # of ushers working:\")\r\n",
        "\r\n",
        "  params = [num_cashiers, num_servers, num_ushers]\r\n",
        "\r\n",
        "  if all(str(i).isdigit() for i in params):\r\n",
        "    params = [int(x) for x in params]\r\n",
        "  else:\r\n",
        "    print(\r\n",
        "        \"Could not parse input. The simulation will use default values\"\r\n",
        "        \"\\n1 casher, 1 server, 1 usher.\"\r\n",
        "    )\r\n",
        "    params = [1,1,1]\r\n",
        "  return params\r\n",
        "def main():\r\n",
        "  #Setup\r\n",
        "  random.seed(42)\r\n",
        "  num_cashiers, num_servers, num_ushers = get_user_input()\r\n",
        "  #run the simulation\r\n",
        "  env =simpy.Environment()\r\n",
        "  env.process(run_theater(env, num_cashiers, num_servers, num_ushers))\r\n",
        "  env.run(until=90) ###minutes within the environment\r\n",
        "\r\n",
        "  #view the results\r\n",
        "  mins, secs =calculate_wait_times(wait_times)\r\n",
        "  print(\r\n",
        "      \"Running simulation...\",\r\n",
        "      f\"\\nThe average wait time is {mins} minutes and {secs} seconds.\",\r\n",
        "  )\r\n",
        "if __name__ =='__main__':\r\n",
        "  main()"
      ],
      "execution_count": 25,
      "outputs": [
        {
          "output_type": "stream",
          "text": [
            "Writing simulation2.py\n"
          ],
          "name": "stdout"
        }
      ]
    },
    {
      "cell_type": "markdown",
      "metadata": {
        "id": "yBOHgjpbuTPa"
      },
      "source": [
        "### copy path from the left files window and execute"
      ]
    },
    {
      "cell_type": "code",
      "metadata": {
        "colab": {
          "base_uri": "https://localhost:8080/"
        },
        "id": "BpJsHXt9uOfD",
        "outputId": "294bd6c4-5964-41e9-deae-c9d07f9281b8"
      },
      "source": [
        "!python /content/simulation2.py"
      ],
      "execution_count": 26,
      "outputs": [
        {
          "output_type": "stream",
          "text": [
            "Input # of cashiers working:50\n",
            "Input # of servers working:30\n",
            "Input # of ushers working:10\n",
            "Running simulation... \n",
            "The average wait time is 5 minutes and 33 seconds.\n"
          ],
          "name": "stdout"
        }
      ]
    },
    {
      "cell_type": "code",
      "metadata": {
        "id": "R-MyoEmeuaTe"
      },
      "source": [
        ""
      ],
      "execution_count": null,
      "outputs": []
    }
  ]
}